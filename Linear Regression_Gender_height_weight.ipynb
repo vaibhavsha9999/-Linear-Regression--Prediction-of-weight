{
 "cells": [
  {
   "cell_type": "markdown",
   "id": "3003a5f1",
   "metadata": {},
   "source": [
    "<h3>Codevita Internship - Data Science Project</h3>\n",
    "<h4>Vaibhav Sharma <br><br>\n",
    "Task - To predict weight of a person according to height using Linear Regression</h4>"
   ]
  },
  {
   "cell_type": "markdown",
   "id": "7943fe18",
   "metadata": {},
   "source": [
    "Heights are in Inches and Weight is in Pound in the Dataset"
   ]
  },
  {
   "cell_type": "markdown",
   "id": "54cd3706",
   "metadata": {},
   "source": [
    "<h5>Importing Data and Analysing</h5>"
   ]
  },
  {
   "cell_type": "code",
   "execution_count": 163,
   "id": "18be4456-2d1d-4f36-871c-e26c0dbffe2b",
   "metadata": {},
   "outputs": [],
   "source": [
    "import pandas as pd\n",
    "import numpy as np\n",
    "from matplotlib import pyplot as plt"
   ]
  },
  {
   "cell_type": "code",
   "execution_count": 164,
   "id": "f3da1319-2add-4bef-a2da-93d44dac097a",
   "metadata": {
    "tags": []
   },
   "outputs": [],
   "source": [
    "data=pd.read_csv(r'C:\\Users\\vaibh\\desktop\\DataSets-master\\DataSets-master\\weight-height.csv')"
   ]
  },
  {
   "cell_type": "code",
   "execution_count": 165,
   "id": "74934512-84aa-44b3-8ece-5b5665f99993",
   "metadata": {
    "jupyter": {
     "outputs_hidden": true
    },
    "tags": []
   },
   "outputs": [
    {
     "data": {
      "text/html": [
       "<div>\n",
       "<style scoped>\n",
       "    .dataframe tbody tr th:only-of-type {\n",
       "        vertical-align: middle;\n",
       "    }\n",
       "\n",
       "    .dataframe tbody tr th {\n",
       "        vertical-align: top;\n",
       "    }\n",
       "\n",
       "    .dataframe thead th {\n",
       "        text-align: right;\n",
       "    }\n",
       "</style>\n",
       "<table border=\"1\" class=\"dataframe\">\n",
       "  <thead>\n",
       "    <tr style=\"text-align: right;\">\n",
       "      <th></th>\n",
       "      <th>Gender</th>\n",
       "      <th>Height</th>\n",
       "      <th>Weight</th>\n",
       "    </tr>\n",
       "  </thead>\n",
       "  <tbody>\n",
       "    <tr>\n",
       "      <th>0</th>\n",
       "      <td>Male</td>\n",
       "      <td>73.847017</td>\n",
       "      <td>241.893563</td>\n",
       "    </tr>\n",
       "    <tr>\n",
       "      <th>1</th>\n",
       "      <td>Male</td>\n",
       "      <td>68.781904</td>\n",
       "      <td>162.310473</td>\n",
       "    </tr>\n",
       "    <tr>\n",
       "      <th>2</th>\n",
       "      <td>Male</td>\n",
       "      <td>74.110105</td>\n",
       "      <td>212.740856</td>\n",
       "    </tr>\n",
       "    <tr>\n",
       "      <th>3</th>\n",
       "      <td>Male</td>\n",
       "      <td>71.730978</td>\n",
       "      <td>220.042470</td>\n",
       "    </tr>\n",
       "    <tr>\n",
       "      <th>4</th>\n",
       "      <td>Male</td>\n",
       "      <td>69.881796</td>\n",
       "      <td>206.349801</td>\n",
       "    </tr>\n",
       "  </tbody>\n",
       "</table>\n",
       "</div>"
      ],
      "text/plain": [
       "  Gender     Height      Weight\n",
       "0   Male  73.847017  241.893563\n",
       "1   Male  68.781904  162.310473\n",
       "2   Male  74.110105  212.740856\n",
       "3   Male  71.730978  220.042470\n",
       "4   Male  69.881796  206.349801"
      ]
     },
     "execution_count": 165,
     "metadata": {},
     "output_type": "execute_result"
    }
   ],
   "source": [
    "data.head()"
   ]
  },
  {
   "cell_type": "code",
   "execution_count": 166,
   "id": "c5de3e6c-c008-4291-8469-cb441538b835",
   "metadata": {},
   "outputs": [
    {
     "data": {
      "text/plain": [
       "Male      5000\n",
       "Female    5000\n",
       "Name: Gender, dtype: int64"
      ]
     },
     "execution_count": 166,
     "metadata": {},
     "output_type": "execute_result"
    }
   ],
   "source": [
    "data[\"Gender\"].value_counts()"
   ]
  },
  {
   "cell_type": "code",
   "execution_count": 167,
   "id": "31f4738c-7c9d-4a99-89c2-a130c5d27a4f",
   "metadata": {},
   "outputs": [],
   "source": [
    "XGH=data.iloc[:,0:2] #Feature\n",
    "YW=data[\"Weight\"]    #Target"
   ]
  },
  {
   "cell_type": "code",
   "execution_count": 168,
   "id": "5282a1b4",
   "metadata": {},
   "outputs": [
    {
     "data": {
      "text/html": [
       "<div>\n",
       "<style scoped>\n",
       "    .dataframe tbody tr th:only-of-type {\n",
       "        vertical-align: middle;\n",
       "    }\n",
       "\n",
       "    .dataframe tbody tr th {\n",
       "        vertical-align: top;\n",
       "    }\n",
       "\n",
       "    .dataframe thead th {\n",
       "        text-align: right;\n",
       "    }\n",
       "</style>\n",
       "<table border=\"1\" class=\"dataframe\">\n",
       "  <thead>\n",
       "    <tr style=\"text-align: right;\">\n",
       "      <th></th>\n",
       "      <th>Gender</th>\n",
       "      <th>Height</th>\n",
       "    </tr>\n",
       "  </thead>\n",
       "  <tbody>\n",
       "    <tr>\n",
       "      <th>0</th>\n",
       "      <td>Male</td>\n",
       "      <td>73.847017</td>\n",
       "    </tr>\n",
       "    <tr>\n",
       "      <th>1</th>\n",
       "      <td>Male</td>\n",
       "      <td>68.781904</td>\n",
       "    </tr>\n",
       "    <tr>\n",
       "      <th>2</th>\n",
       "      <td>Male</td>\n",
       "      <td>74.110105</td>\n",
       "    </tr>\n",
       "    <tr>\n",
       "      <th>3</th>\n",
       "      <td>Male</td>\n",
       "      <td>71.730978</td>\n",
       "    </tr>\n",
       "    <tr>\n",
       "      <th>4</th>\n",
       "      <td>Male</td>\n",
       "      <td>69.881796</td>\n",
       "    </tr>\n",
       "  </tbody>\n",
       "</table>\n",
       "</div>"
      ],
      "text/plain": [
       "  Gender     Height\n",
       "0   Male  73.847017\n",
       "1   Male  68.781904\n",
       "2   Male  74.110105\n",
       "3   Male  71.730978\n",
       "4   Male  69.881796"
      ]
     },
     "execution_count": 168,
     "metadata": {},
     "output_type": "execute_result"
    }
   ],
   "source": [
    "XGH.head()"
   ]
  },
  {
   "cell_type": "code",
   "execution_count": 169,
   "id": "968fbeba-67b1-4e24-9eb9-22d3f67545b8",
   "metadata": {
    "tags": []
   },
   "outputs": [
    {
     "data": {
      "text/html": [
       "<div>\n",
       "<style scoped>\n",
       "    .dataframe tbody tr th:only-of-type {\n",
       "        vertical-align: middle;\n",
       "    }\n",
       "\n",
       "    .dataframe tbody tr th {\n",
       "        vertical-align: top;\n",
       "    }\n",
       "\n",
       "    .dataframe thead th {\n",
       "        text-align: right;\n",
       "    }\n",
       "</style>\n",
       "<table border=\"1\" class=\"dataframe\">\n",
       "  <thead>\n",
       "    <tr style=\"text-align: right;\">\n",
       "      <th></th>\n",
       "      <th>Height</th>\n",
       "      <th>Weight</th>\n",
       "    </tr>\n",
       "  </thead>\n",
       "  <tbody>\n",
       "    <tr>\n",
       "      <th>Height</th>\n",
       "      <td>1.000000</td>\n",
       "      <td>0.924756</td>\n",
       "    </tr>\n",
       "    <tr>\n",
       "      <th>Weight</th>\n",
       "      <td>0.924756</td>\n",
       "      <td>1.000000</td>\n",
       "    </tr>\n",
       "  </tbody>\n",
       "</table>\n",
       "</div>"
      ],
      "text/plain": [
       "          Height    Weight\n",
       "Height  1.000000  0.924756\n",
       "Weight  0.924756  1.000000"
      ]
     },
     "execution_count": 169,
     "metadata": {},
     "output_type": "execute_result"
    }
   ],
   "source": [
    "data.corr()"
   ]
  },
  {
   "cell_type": "markdown",
   "id": "f6a8357c-2e99-46b4-bbde-edea882031e7",
   "metadata": {},
   "source": [
    "<h5>Encode Male With 1 And Female With 0</h5>"
   ]
  },
  {
   "cell_type": "code",
   "execution_count": 10,
   "id": "90fc9d5f-2c3f-4de0-8d32-356c6520ee58",
   "metadata": {},
   "outputs": [],
   "source": [
    "XGH[\"Gender\"]=XGH[\"Gender\"].map({\"Male\":1,\"Female\":0})"
   ]
  },
  {
   "cell_type": "code",
   "execution_count": 31,
   "id": "ff52118c-d04e-4777-86b4-54bc9af5c0ef",
   "metadata": {},
   "outputs": [
    {
     "data": {
      "text/html": [
       "<div>\n",
       "<style scoped>\n",
       "    .dataframe tbody tr th:only-of-type {\n",
       "        vertical-align: middle;\n",
       "    }\n",
       "\n",
       "    .dataframe tbody tr th {\n",
       "        vertical-align: top;\n",
       "    }\n",
       "\n",
       "    .dataframe thead th {\n",
       "        text-align: right;\n",
       "    }\n",
       "</style>\n",
       "<table border=\"1\" class=\"dataframe\">\n",
       "  <thead>\n",
       "    <tr style=\"text-align: right;\">\n",
       "      <th></th>\n",
       "      <th>Gender</th>\n",
       "      <th>Height</th>\n",
       "    </tr>\n",
       "  </thead>\n",
       "  <tbody>\n",
       "    <tr>\n",
       "      <th>0</th>\n",
       "      <td>1</td>\n",
       "      <td>73.847017</td>\n",
       "    </tr>\n",
       "    <tr>\n",
       "      <th>1</th>\n",
       "      <td>1</td>\n",
       "      <td>68.781904</td>\n",
       "    </tr>\n",
       "    <tr>\n",
       "      <th>2</th>\n",
       "      <td>1</td>\n",
       "      <td>74.110105</td>\n",
       "    </tr>\n",
       "    <tr>\n",
       "      <th>3</th>\n",
       "      <td>1</td>\n",
       "      <td>71.730978</td>\n",
       "    </tr>\n",
       "    <tr>\n",
       "      <th>4</th>\n",
       "      <td>1</td>\n",
       "      <td>69.881796</td>\n",
       "    </tr>\n",
       "  </tbody>\n",
       "</table>\n",
       "</div>"
      ],
      "text/plain": [
       "   Gender     Height\n",
       "0       1  73.847017\n",
       "1       1  68.781904\n",
       "2       1  74.110105\n",
       "3       1  71.730978\n",
       "4       1  69.881796"
      ]
     },
     "execution_count": 31,
     "metadata": {},
     "output_type": "execute_result"
    }
   ],
   "source": [
    "XGH.head()"
   ]
  },
  {
   "cell_type": "markdown",
   "id": "9a9b40e1-b67e-4d43-8f48-207aec2a35e6",
   "metadata": {},
   "source": [
    "<h5>Split Data Into Training And tesing</h5>"
   ]
  },
  {
   "cell_type": "code",
   "execution_count": 76,
   "id": "12674c44-0b70-48a2-8c63-e7440ea48da5",
   "metadata": {},
   "outputs": [],
   "source": [
    "from sklearn.model_selection import train_test_split     #Using Train Test Split"
   ]
  },
  {
   "cell_type": "code",
   "execution_count": 77,
   "id": "5b09762a-7d4f-4548-8c1f-f1db9f8362aa",
   "metadata": {},
   "outputs": [],
   "source": [
    "Xtrain,Xtest,Ytrain,Ytest=train_test_split(XGH,YW,test_size=.30,random_state=101)  #We are using 70% data to train\n"
   ]
  },
  {
   "cell_type": "code",
   "execution_count": 14,
   "id": "ec741b8b-4922-4d10-b38f-850e23329cc3",
   "metadata": {},
   "outputs": [],
   "source": [
    "from sklearn.linear_model import LinearRegression"
   ]
  },
  {
   "cell_type": "code",
   "execution_count": 15,
   "id": "087dd12b-208b-44ec-952e-767b74d4de01",
   "metadata": {},
   "outputs": [],
   "source": [
    "trainer=LinearRegression()"
   ]
  },
  {
   "cell_type": "code",
   "execution_count": 16,
   "id": "62fd3935-7701-47f2-95ee-7681be57e71f",
   "metadata": {},
   "outputs": [],
   "source": [
    "learner=trainer.fit(Xtrain,Ytrain)"
   ]
  },
  {
   "cell_type": "code",
   "execution_count": 17,
   "id": "f8f3bf6a-124e-4a9a-9f70-1349fec41a00",
   "metadata": {},
   "outputs": [],
   "source": [
    "m=learner.coef_  "
   ]
  },
  {
   "cell_type": "code",
   "execution_count": 18,
   "id": "817cacc0-0c48-4764-8c2e-c18a07bc1099",
   "metadata": {},
   "outputs": [
    {
     "data": {
      "text/plain": [
       "array([19.80741394,  5.94306737])"
      ]
     },
     "execution_count": 18,
     "metadata": {},
     "output_type": "execute_result"
    }
   ],
   "source": [
    "m"
   ]
  },
  {
   "cell_type": "code",
   "execution_count": 19,
   "id": "02a29da1-9473-4ae5-81d0-41a7e3ab1a77",
   "metadata": {},
   "outputs": [
    {
     "data": {
      "text/plain": [
       "-242.90146146696873"
      ]
     },
     "execution_count": 19,
     "metadata": {},
     "output_type": "execute_result"
    }
   ],
   "source": [
    "c=learner.intercept_\n",
    "c"
   ]
  },
  {
   "cell_type": "markdown",
   "id": "ff0056c0-d5d2-4295-89b3-d8a4b34e9bde",
   "metadata": {},
   "source": [
    "<h5>Error</h5>"
   ]
  },
  {
   "cell_type": "code",
   "execution_count": 141,
   "id": "e46b6f1e-6441-4d57-a071-d7c23e1be2e9",
   "metadata": {},
   "outputs": [],
   "source": [
    "Ya=Ytest\n",
    "Yp=learner.predict(Xtest)    #Applying model on the test Data"
   ]
  },
  {
   "cell_type": "code",
   "execution_count": 142,
   "id": "6f2add8e-461b-45b4-b9f0-200360d6bd84",
   "metadata": {},
   "outputs": [],
   "source": [
    "YaVsYp=pd.DataFrame({\"Ya\":list(Ya),\"Yp\":list(Yp)})"
   ]
  },
  {
   "cell_type": "code",
   "execution_count": 162,
   "id": "c63ea440",
   "metadata": {},
   "outputs": [
    {
     "data": {
      "text/html": [
       "<div>\n",
       "<style scoped>\n",
       "    .dataframe tbody tr th:only-of-type {\n",
       "        vertical-align: middle;\n",
       "    }\n",
       "\n",
       "    .dataframe tbody tr th {\n",
       "        vertical-align: top;\n",
       "    }\n",
       "\n",
       "    .dataframe thead th {\n",
       "        text-align: right;\n",
       "    }\n",
       "</style>\n",
       "<table border=\"1\" class=\"dataframe\">\n",
       "  <thead>\n",
       "    <tr style=\"text-align: right;\">\n",
       "      <th></th>\n",
       "      <th>Ya</th>\n",
       "      <th>Yp</th>\n",
       "    </tr>\n",
       "  </thead>\n",
       "  <tbody>\n",
       "    <tr>\n",
       "      <th>0</th>\n",
       "      <td>163.632026</td>\n",
       "      <td>167.662032</td>\n",
       "    </tr>\n",
       "    <tr>\n",
       "      <th>1</th>\n",
       "      <td>141.718207</td>\n",
       "      <td>130.260910</td>\n",
       "    </tr>\n",
       "    <tr>\n",
       "      <th>2</th>\n",
       "      <td>147.356066</td>\n",
       "      <td>143.196996</td>\n",
       "    </tr>\n",
       "    <tr>\n",
       "      <th>3</th>\n",
       "      <td>151.275533</td>\n",
       "      <td>138.363455</td>\n",
       "    </tr>\n",
       "    <tr>\n",
       "      <th>4</th>\n",
       "      <td>177.992066</td>\n",
       "      <td>172.331809</td>\n",
       "    </tr>\n",
       "  </tbody>\n",
       "</table>\n",
       "</div>"
      ],
      "text/plain": [
       "           Ya          Yp\n",
       "0  163.632026  167.662032\n",
       "1  141.718207  130.260910\n",
       "2  147.356066  143.196996\n",
       "3  151.275533  138.363455\n",
       "4  177.992066  172.331809"
      ]
     },
     "execution_count": 162,
     "metadata": {},
     "output_type": "execute_result"
    }
   ],
   "source": [
    "YaVsYp.head()"
   ]
  },
  {
   "cell_type": "code",
   "execution_count": 143,
   "id": "94d53627-e3c4-483e-893f-a0527a0a78e1",
   "metadata": {},
   "outputs": [],
   "source": [
    "from sklearn.metrics import mean_squared_error"
   ]
  },
  {
   "cell_type": "code",
   "execution_count": 144,
   "id": "7e76841c-5514-4a31-a173-ce2c59c226fd",
   "metadata": {},
   "outputs": [],
   "source": [
    "error=np.sqrt(mean_squared_error(Ya,Yp)) # Root mean squared Error"
   ]
  },
  {
   "cell_type": "code",
   "execution_count": 145,
   "id": "8f237484-f7dc-49ee-b031-37ce92f08668",
   "metadata": {},
   "outputs": [
    {
     "data": {
      "text/plain": [
       "10.116764200868682"
      ]
     },
     "execution_count": 145,
     "metadata": {},
     "output_type": "execute_result"
    }
   ],
   "source": [
    "error"
   ]
  },
  {
   "cell_type": "markdown",
   "id": "5dd1bcb8",
   "metadata": {},
   "source": [
    "<h5>Visualizing Data</h5>"
   ]
  },
  {
   "cell_type": "code",
   "execution_count": 156,
   "id": "f6122f08-3d18-4629-83cd-6be0739331b4",
   "metadata": {},
   "outputs": [],
   "source": [
    "Ypw=m[1]*Xtest.iloc[:,1]+c+error"
   ]
  },
  {
   "cell_type": "code",
   "execution_count": 157,
   "id": "47ccada2-c64d-4651-bdbd-ad3200709bec",
   "metadata": {},
   "outputs": [
    {
     "data": {
      "image/png": "[encoded data removed]",
      "text/plain": [
       "<Figure size 432x288 with 1 Axes>"
      ]
     },
     "metadata": {
      "needs_background": "light"
     },
     "output_type": "display_data"
    }
   ],
   "source": [
    "plt.plot(Xtest.iloc[:,1],Ya,'*r')\n",
    "plt.plot(Xtest.iloc[:,1],Ypw,'^b')\n",
    "plt.legend([\"Ya\",\"Yp\"])\n",
    "plt.title(\"Weight vs Height\")\n",
    "plt.show()"
   ]
  },
  {
   "cell_type": "code",
   "execution_count": null,
   "id": "e57daebb-1953-4d36-b65f-e47ee871ab79",
   "metadata": {},
   "outputs": [],
   "source": []
  }
 ],
 "metadata": {
  "kernelspec": {
   "display_name": "Python 3 (ipykernel)",
   "language": "python",
   "name": "python3"
  },
  "language_info": {
   "codemirror_mode": {
    "name": "ipython",
    "version": 3
   },
   "file_extension": ".py",
   "mimetype": "text/x-python",
   "name": "python",
   "nbconvert_exporter": "python",
   "pygments_lexer": "ipython3",
   "version": "3.8.12"
  },
  "toc-autonumbering": false
 },
 "nbformat": 4,
 "nbformat_minor": 5
}
